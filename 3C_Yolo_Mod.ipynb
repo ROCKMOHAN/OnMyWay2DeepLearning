{
  "nbformat": 4,
  "nbformat_minor": 0,
  "metadata": {
    "colab": {
      "name": "3C_Yolo_Mod.ipynb",
      "version": "0.3.2",
      "provenance": [],
      "collapsed_sections": [],
      "include_colab_link": true
    },
    "kernelspec": {
      "name": "python3",
      "display_name": "Python 3"
    },
    "accelerator": "GPU"
  },
  "cells": [
    {
      "cell_type": "markdown",
      "metadata": {
        "id": "view-in-github",
        "colab_type": "text"
      },
      "source": [
        "<a href=\"https://colab.research.google.com/github/ROCKMOHAN/OnMyWay2DeepLearning/blob/master/3C_Yolo_Mod.ipynb\" target=\"_parent\"><img src=\"https://colab.research.google.com/assets/colab-badge.svg\" alt=\"Open In Colab\"/></a>"
      ]
    },
    {
      "metadata": {
        "id": "8edSiHPi2N5l",
        "colab_type": "code",
        "colab": {}
      },
      "cell_type": "code",
      "source": [
        "import keras\n",
        "from keras.datasets import cifar10\n",
        "from keras.models import Model, Sequential\n",
        "from keras.layers import Dense, Dropout, Flatten, Input, AveragePooling2D, merge, Activation\n",
        "from keras.layers import Conv2D, MaxPooling2D, BatchNormalization\n",
        "from keras.layers import Concatenate\n",
        "from keras.optimizers import Adam\n",
        "from keras.layers.advanced_activations import LeakyReLU\n",
        "from keras.layers import Reshape, Activation, Conv2D, Input, MaxPooling2D, BatchNormalization, Flatten, Dense, Lambda, GlobalAveragePooling2D\n",
        "from keras.layers.merge import concatenate\n",
        "\n",
        "# this part will prevent tensorflow to allocate all the avaliable GPU Memory\n",
        "# backend\n",
        "import tensorflow as tf\n",
        "from keras import backend as k\n",
        "\n",
        "# Don't pre-allocate memory; allocate as-needed\n",
        "config = tf.ConfigProto()\n",
        "config.gpu_options.allow_growth = True\n",
        "\n",
        "# Create a session with the above options specified.\n",
        "k.tensorflow_backend.set_session(tf.Session(config=config))\n",
        "\n",
        "# Hyperparameters\n",
        "batch_size = 256\n",
        "num_classes = 10\n",
        "epochs = 50\n",
        "l = 10\n",
        "num_filter = 20"
      ],
      "execution_count": 0,
      "outputs": []
    },
    {
      "metadata": {
        "id": "-hkvQwOH2cCO",
        "colab_type": "code",
        "colab": {}
      },
      "cell_type": "code",
      "source": [
        "# Load CIFAR10 Data\n",
        "(x_train, y_train), (x_test, y_test) = cifar10.load_data()\n",
        "img_height, img_width, channel = x_train.shape[1], x_train.shape[2], x_train.shape[3]\n",
        "\n",
        "# convert to one hot encoing \n",
        "y_train = keras.utils.to_categorical(y_train, num_classes)\n",
        "y_test = keras.utils.to_categorical(y_test, num_classes)"
      ],
      "execution_count": 0,
      "outputs": []
    },
    {
      "metadata": {
        "id": "ztoDypc63gEs",
        "colab_type": "code",
        "colab": {}
      },
      "cell_type": "code",
      "source": [
        "def space_to_depth_x2(x):\n",
        "    return tf.space_to_depth(x, block_size=2)"
      ],
      "execution_count": 0,
      "outputs": []
    },
    {
      "metadata": {
        "id": "y-X1niq1G4yl",
        "colab_type": "code",
        "colab": {}
      },
      "cell_type": "code",
      "source": [
        ""
      ],
      "execution_count": 0,
      "outputs": []
    },
    {
      "metadata": {
        "id": "8XTITkYvGZb9",
        "colab_type": "text"
      },
      "cell_type": "markdown",
      "source": [
        "#Has 4 Blocks with 1st Block to 4th Block Skip connection."
      ]
    },
    {
      "metadata": {
        "id": "SNnGm8Tv2fR1",
        "colab_type": "code",
        "colab": {}
      },
      "cell_type": "code",
      "source": [
        "input = Input(shape=(img_height, img_width, channel,))\n",
        "\n",
        "# Layer 1\n",
        "layer1 = Conv2D(32, (3,3), strides=(1,1), padding='same', name='conv_1', use_bias=False)(input)\n",
        "layer1 = BatchNormalization(name='norm_1')(layer1)\n",
        "layer1 = LeakyReLU(alpha=0.1)(layer1)\n",
        "#layer1 = MaxPooling2D(pool_size=(2, 2))(layer1)\n",
        "\n",
        "# Layer 2\n",
        "layer2 = Conv2D(64, (3,3), strides=(1,1), padding='same', name='conv_2', use_bias=False)(layer1)\n",
        "layer2 = BatchNormalization(name='norm_2')(layer2)\n",
        "layer2 = LeakyReLU(alpha=0.1)(layer2)\n",
        "#layer2 = MaxPooling2D(pool_size=(2, 2))(layer2)\n",
        "\n",
        "# Layer 3\n",
        "layer3 = Conv2D(128, (3,3), strides=(1,1), padding='same', name='conv_3', use_bias=False)(layer2)\n",
        "layer3 = BatchNormalization(name='norm_3')(layer3)\n",
        "layer3 = LeakyReLU(alpha=0.1)(layer3)\n",
        "\n",
        "# Layer 4\n",
        "layer4 = Conv2D(256, (3,3), strides=(1,1), padding='same', name='conv_4', use_bias=False)(layer3)\n",
        "layer4 = BatchNormalization(name='norm_4')(layer4)\n",
        "layer4 = LeakyReLU(alpha=0.1)(layer4)\n",
        "\n",
        "bottleNeck1 = Conv2D(32, (1, 1), strides=(1,1), padding='same', name='bottleneck1', use_bias=False)(layer4)\n",
        "\n",
        "# Layer 5\n",
        "layer5 = Conv2D(512, (3,3), strides=(1,1), padding='same', name='conv_5', use_bias=False)(bottleNeck1)\n",
        "layer5 = BatchNormalization(name='norm_5')(layer5)\n",
        "layer5 = LeakyReLU(alpha=0.1)(layer5)\n",
        "\n",
        "skipconnection = layer5\n",
        "\n",
        "layer5 = MaxPooling2D(pool_size=(2, 2))(layer5)\n",
        "\n",
        "#Block 1 ends\n",
        "\n",
        "#print(skipconnection.shape)\n",
        "\n",
        "# Layer 6\n",
        "layer6 = Conv2D(32, (3,3), strides=(1,1), padding='same', name='conv_6', use_bias=False)(layer5)\n",
        "layer6 = BatchNormalization(name='norm_6')(layer6)\n",
        "layer6 = LeakyReLU(alpha=0.1)(layer6)\n",
        "\n",
        "# Layer 7\n",
        "layer7 = Conv2D(64, (3,3), strides=(1,1), padding='same', name='conv_7', use_bias=False)(layer6)\n",
        "layer7 = BatchNormalization(name='norm_7')(layer7)\n",
        "layer7 = LeakyReLU(alpha=0.1)(layer7)\n",
        "\n",
        "# Layer 8\n",
        "layer8 = Conv2D(128, (3,3), strides=(1,1), padding='same', name='conv_8', use_bias=False)(layer7)\n",
        "layer8 = BatchNormalization(name='norm_8')(layer8)\n",
        "layer8 = LeakyReLU(alpha=0.1)(layer8)\n",
        "#layer8 = MaxPooling2D(pool_size=(2, 2))(layer8)\n",
        "\n",
        "# Layer 9\n",
        "layer9 = Conv2D(256, (3,3), strides=(1,1), padding='same', name='conv_9', use_bias=False)(layer8)\n",
        "layer9 = BatchNormalization(name='norm_9')(layer9)\n",
        "layer9 = LeakyReLU(alpha=0.1)(layer9)\n",
        "\n",
        "bottleNeck2 = Conv2D(32, (1, 1), strides=(1,1), padding='same', name='bottleneck2', use_bias=False)(layer9)\n",
        "\n",
        "\n",
        "# Layer 10\n",
        "layer10 = Conv2D(512, (3,3), strides=(1,1), padding='same', name='conv_10', use_bias=False)(bottleNeck2)\n",
        "layer10 = BatchNormalization(name='norm_10')(layer10)\n",
        "layer10 = LeakyReLU(alpha=0.1)(layer10)\n",
        "layer10 = MaxPooling2D(pool_size=(2, 2))(layer10)\n",
        "\n",
        "#Block 2 ends\n",
        "\n",
        "# Layer 11\n",
        "layer11 = Conv2D(32, (3,3), strides=(1,1), padding='same', name='conv_11', use_bias=False)(layer10)\n",
        "layer11 = BatchNormalization(name='norm_11')(layer10)\n",
        "layer11 = LeakyReLU(alpha=0.1)(layer10)\n",
        "\n",
        "# Layer 12\n",
        "layer12 = Conv2D(64, (3,3), strides=(1,1), padding='same', name='conv_12', use_bias=False)(layer11)\n",
        "layer12 = BatchNormalization(name='norm_12')(layer12)\n",
        "layer12 = LeakyReLU(alpha=0.1)(layer12)\n",
        "\n",
        "# Layer 13\n",
        "layer13 = Conv2D(128, (3,3), strides=(1,1), padding='same', name='conv_13', use_bias=False)(layer12)\n",
        "layer13 = BatchNormalization(name='norm_13')(layer13)\n",
        "layer13 = LeakyReLU(alpha=0.1)(layer13)\n",
        "\n",
        "\n",
        "# Layer 14\n",
        "layer14 = Conv2D(256, (3,3), strides=(1,1), padding='same', name='conv_14', use_bias=False)(layer13)\n",
        "layer14 = BatchNormalization(name='norm_14')(layer14)\n",
        "layer14 = LeakyReLU(alpha=0.1)(layer14)\n",
        "\n",
        "bottleNeck3 = Conv2D(32, (1, 1), strides=(1,1), padding='same', name='bottleneck3', use_bias=False)(layer14)\n",
        "\n",
        "\n",
        "# Layer 15\n",
        "layer15 = Conv2D(512, (3,3), strides=(1,1), padding='same', name='conv_15', use_bias=False)(bottleNeck3)\n",
        "layer15 = BatchNormalization(name='norm_15')(layer15)\n",
        "layer15 = LeakyReLU(alpha=0.1)(layer15)\n",
        "layer15 = MaxPooling2D(pool_size=(2, 2))(layer15)\n",
        "\n",
        "#Block 3 ends\n",
        "\n",
        "# Layer 16\n",
        "layer16 = Conv2D(32, (3,3), strides=(1,1), padding='same', name='conv_16', use_bias=False)(layer15)\n",
        "layer16 = BatchNormalization(name='norm_16')(layer16)\n",
        "layer16 = LeakyReLU(alpha=0.1)(layer16)\n",
        "\n",
        "# Layer 17\n",
        "layer17 = Conv2D(64, (3,3), strides=(1,1), padding='same', name='conv_17', use_bias=False)(layer16)\n",
        "layer17 = BatchNormalization(name='norm_17')(layer17)\n",
        "layer17 = LeakyReLU(alpha=0.1)(layer17)\n",
        "\n",
        "# Layer 18\n",
        "layer18 = Conv2D(128, (3,3), strides=(1,1), padding='same', name='conv_18', use_bias=False)(layer17)\n",
        "layer = BatchNormalization(name='norm_18')(layer18)\n",
        "layer = LeakyReLU(alpha=0.1)(layer18)\n",
        "\n",
        "# Layer 19\n",
        "layer19 = Conv2D(256, (3,3), strides=(1,1), padding='same', name='conv_19', use_bias=False)(layer18)\n",
        "layer19 = BatchNormalization(name='norm_19')(layer19)\n",
        "layer19 = LeakyReLU(alpha=0.1)(layer19)\n",
        "\n",
        "bottleNeck4 = Conv2D(32, (1, 1), strides=(1,1), padding='same', name='bottleneck4', use_bias=False)(layer19)\n",
        "\n",
        "\n",
        "# Layer 20\n",
        "layer20 = Conv2D(512, (3,3), strides=(1,1), padding='same', name='conv_20', use_bias=False)(bottleNeck4)\n",
        "layer20 = BatchNormalization(name='norm_20')(layer20)\n",
        "layer20 = LeakyReLU(alpha=0.1)(layer20)\n",
        "layer20 = MaxPooling2D(pool_size=(2, 2))(layer20)\n",
        "\n",
        "# Layer 21\n",
        "skipconnection = Conv2D(128, (1,1), strides=(1, 1), padding='same', name='conv_21', use_bias=False)(skipconnection)\n",
        "skipconnection = BatchNormalization(name='norm_21')(skipconnection)\n",
        "skipconnection = LeakyReLU(alpha=0.1)(skipconnection)\n",
        "skipconnection = Lambda(space_to_depth_x2)(skipconnection)\n",
        "\n",
        "layer21 = concatenate([skipconnection, layer5])\n",
        "\n",
        "# Layer 22\n",
        "layer22 = Conv2D(1024, (3,3), strides=(1,1), padding='same', name='conv_22', use_bias=False)(layer21)\n",
        "layer22 = BatchNormalization(name='norm_22')(layer21)\n",
        "layer22 = LeakyReLU(alpha=0.1)(layer21)\n",
        "\n",
        "# Layer 23\n",
        "#layer23 = Flatten()(layer22)\n",
        "\n",
        "#output = Dense(num_classes, activation='softmax')(layer23)\n",
        "output = Conv2D(10, (1, 1), activation='relu')(layer22)\n",
        "\n",
        "output = GlobalAveragePooling2D()(output)\n",
        "output = Activation('softmax')(output)"
      ],
      "execution_count": 0,
      "outputs": []
    },
    {
      "metadata": {
        "id": "y1bLoz_iG-tX",
        "colab_type": "text"
      },
      "cell_type": "markdown",
      "source": [
        "## Modified the network to have 10 output depth & used `GlobalAveragePooling2D` to get rid of **DenseLayer** - Reduced More that 2M Parameters"
      ]
    },
    {
      "metadata": {
        "id": "Jeh0VAxy26NV",
        "colab_type": "code",
        "outputId": "2fbb1232-da8a-469b-9818-c46f0ccd9906",
        "colab": {
          "base_uri": "https://localhost:8080/",
          "height": 1071
        }
      },
      "cell_type": "code",
      "source": [
        "model = Model(inputs=[input], outputs=[output])\n",
        "model.summary()"
      ],
      "execution_count": 0,
      "outputs": [
        {
          "output_type": "stream",
          "text": [
            "__________________________________________________________________________________________________\n",
            "Layer (type)                    Output Shape         Param #     Connected to                     \n",
            "==================================================================================================\n",
            "input_4 (InputLayer)            (None, 32, 32, 3)    0                                            \n",
            "__________________________________________________________________________________________________\n",
            "conv_1 (Conv2D)                 (None, 32, 32, 32)   864         input_4[0][0]                    \n",
            "__________________________________________________________________________________________________\n",
            "norm_1 (BatchNormalization)     (None, 32, 32, 32)   128         conv_1[0][0]                     \n",
            "__________________________________________________________________________________________________\n",
            "leaky_re_lu_67 (LeakyReLU)      (None, 32, 32, 32)   0           norm_1[0][0]                     \n",
            "__________________________________________________________________________________________________\n",
            "conv_2 (Conv2D)                 (None, 32, 32, 64)   18432       leaky_re_lu_67[0][0]             \n",
            "__________________________________________________________________________________________________\n",
            "norm_2 (BatchNormalization)     (None, 32, 32, 64)   256         conv_2[0][0]                     \n",
            "__________________________________________________________________________________________________\n",
            "leaky_re_lu_68 (LeakyReLU)      (None, 32, 32, 64)   0           norm_2[0][0]                     \n",
            "__________________________________________________________________________________________________\n",
            "conv_3 (Conv2D)                 (None, 32, 32, 128)  73728       leaky_re_lu_68[0][0]             \n",
            "__________________________________________________________________________________________________\n",
            "norm_3 (BatchNormalization)     (None, 32, 32, 128)  512         conv_3[0][0]                     \n",
            "__________________________________________________________________________________________________\n",
            "leaky_re_lu_69 (LeakyReLU)      (None, 32, 32, 128)  0           norm_3[0][0]                     \n",
            "__________________________________________________________________________________________________\n",
            "conv_4 (Conv2D)                 (None, 32, 32, 256)  294912      leaky_re_lu_69[0][0]             \n",
            "__________________________________________________________________________________________________\n",
            "norm_4 (BatchNormalization)     (None, 32, 32, 256)  1024        conv_4[0][0]                     \n",
            "__________________________________________________________________________________________________\n",
            "leaky_re_lu_70 (LeakyReLU)      (None, 32, 32, 256)  0           norm_4[0][0]                     \n",
            "__________________________________________________________________________________________________\n",
            "bottleneck1 (Conv2D)            (None, 32, 32, 32)   8192        leaky_re_lu_70[0][0]             \n",
            "__________________________________________________________________________________________________\n",
            "conv_5 (Conv2D)                 (None, 32, 32, 512)  147456      bottleneck1[0][0]                \n",
            "__________________________________________________________________________________________________\n",
            "norm_5 (BatchNormalization)     (None, 32, 32, 512)  2048        conv_5[0][0]                     \n",
            "__________________________________________________________________________________________________\n",
            "leaky_re_lu_71 (LeakyReLU)      (None, 32, 32, 512)  0           norm_5[0][0]                     \n",
            "__________________________________________________________________________________________________\n",
            "conv_21 (Conv2D)                (None, 32, 32, 128)  65536       leaky_re_lu_71[0][0]             \n",
            "__________________________________________________________________________________________________\n",
            "norm_21 (BatchNormalization)    (None, 32, 32, 128)  512         conv_21[0][0]                    \n",
            "__________________________________________________________________________________________________\n",
            "leaky_re_lu_87 (LeakyReLU)      (None, 32, 32, 128)  0           norm_21[0][0]                    \n",
            "__________________________________________________________________________________________________\n",
            "lambda_4 (Lambda)               (None, 16, 16, 512)  0           leaky_re_lu_87[0][0]             \n",
            "__________________________________________________________________________________________________\n",
            "max_pooling2d_13 (MaxPooling2D) (None, 16, 16, 512)  0           leaky_re_lu_71[0][0]             \n",
            "__________________________________________________________________________________________________\n",
            "concatenate_4 (Concatenate)     (None, 16, 16, 1024) 0           lambda_4[0][0]                   \n",
            "                                                                 max_pooling2d_13[0][0]           \n",
            "__________________________________________________________________________________________________\n",
            "leaky_re_lu_88 (LeakyReLU)      (None, 16, 16, 1024) 0           concatenate_4[0][0]              \n",
            "__________________________________________________________________________________________________\n",
            "conv2d_3 (Conv2D)               (None, 16, 16, 10)   10250       leaky_re_lu_88[0][0]             \n",
            "__________________________________________________________________________________________________\n",
            "global_average_pooling2d_1 (Glo (None, 10)           0           conv2d_3[0][0]                   \n",
            "__________________________________________________________________________________________________\n",
            "activation_1 (Activation)       (None, 10)           0           global_average_pooling2d_1[0][0] \n",
            "==================================================================================================\n",
            "Total params: 623,850\n",
            "Trainable params: 621,610\n",
            "Non-trainable params: 2,240\n",
            "__________________________________________________________________________________________________\n"
          ],
          "name": "stdout"
        }
      ]
    },
    {
      "metadata": {
        "id": "apCwOjvZ4Kts",
        "colab_type": "code",
        "colab": {}
      },
      "cell_type": "code",
      "source": [
        "# determine Loss function and Optimizer\n",
        "model.compile(loss='categorical_crossentropy',\n",
        "              optimizer=Adam(),\n",
        "              metrics=['accuracy'])"
      ],
      "execution_count": 0,
      "outputs": []
    },
    {
      "metadata": {
        "id": "tLaFy2AO4TLl",
        "colab_type": "code",
        "outputId": "c0b091df-85fb-470d-e1d7-236d27e38fdb",
        "colab": {
          "base_uri": "https://localhost:8080/",
          "height": 1751
        }
      },
      "cell_type": "code",
      "source": [
        "model.fit(x_train, y_train,\n",
        "                    batch_size=batch_size,\n",
        "                    epochs=epochs,\n",
        "                    verbose=1,\n",
        "                    validation_data=(x_test, y_test))"
      ],
      "execution_count": 0,
      "outputs": [
        {
          "output_type": "stream",
          "text": [
            "Train on 50000 samples, validate on 10000 samples\n",
            "Epoch 1/50\n",
            "50000/50000 [==============================] - 145s 3ms/step - loss: 0.8641 - acc: 0.6952 - val_loss: 1.1047 - val_acc: 0.6326\n",
            "Epoch 2/50\n",
            "50000/50000 [==============================] - 143s 3ms/step - loss: 0.7877 - acc: 0.7228 - val_loss: 1.5024 - val_acc: 0.5263\n",
            "Epoch 3/50\n",
            "50000/50000 [==============================] - 143s 3ms/step - loss: 0.7375 - acc: 0.7408 - val_loss: 1.3454 - val_acc: 0.5717\n",
            "Epoch 4/50\n",
            "50000/50000 [==============================] - 143s 3ms/step - loss: 0.6844 - acc: 0.7599 - val_loss: 2.3965 - val_acc: 0.4154\n",
            "Epoch 5/50\n",
            "50000/50000 [==============================] - 143s 3ms/step - loss: 0.6444 - acc: 0.7755 - val_loss: 2.1986 - val_acc: 0.4631\n",
            "Epoch 6/50\n",
            "50000/50000 [==============================] - 142s 3ms/step - loss: 0.6021 - acc: 0.7909 - val_loss: 1.3599 - val_acc: 0.6121\n",
            "Epoch 7/50\n",
            "50000/50000 [==============================] - 142s 3ms/step - loss: 0.5744 - acc: 0.8004 - val_loss: 1.1894 - val_acc: 0.6157\n",
            "Epoch 8/50\n",
            "50000/50000 [==============================] - 143s 3ms/step - loss: 0.5388 - acc: 0.8129 - val_loss: 0.8978 - val_acc: 0.7083\n",
            "Epoch 9/50\n",
            "50000/50000 [==============================] - 142s 3ms/step - loss: 0.5125 - acc: 0.8226 - val_loss: 1.1014 - val_acc: 0.6503\n",
            "Epoch 10/50\n",
            "50000/50000 [==============================] - 143s 3ms/step - loss: 0.4939 - acc: 0.8293 - val_loss: 0.8367 - val_acc: 0.7119\n",
            "Epoch 11/50\n",
            "50000/50000 [==============================] - 143s 3ms/step - loss: 0.4748 - acc: 0.8341 - val_loss: 0.8611 - val_acc: 0.7235\n",
            "Epoch 12/50\n",
            "50000/50000 [==============================] - 143s 3ms/step - loss: 0.4453 - acc: 0.8464 - val_loss: 0.6828 - val_acc: 0.7631\n",
            "Epoch 13/50\n",
            "50000/50000 [==============================] - 143s 3ms/step - loss: 0.4245 - acc: 0.8531 - val_loss: 1.1971 - val_acc: 0.6536\n",
            "Epoch 14/50\n",
            "50000/50000 [==============================] - 142s 3ms/step - loss: 0.3983 - acc: 0.8623 - val_loss: 0.9447 - val_acc: 0.6939\n",
            "Epoch 15/50\n",
            "50000/50000 [==============================] - 143s 3ms/step - loss: 0.3815 - acc: 0.8680 - val_loss: 0.8279 - val_acc: 0.7293\n",
            "Epoch 16/50\n",
            "50000/50000 [==============================] - 143s 3ms/step - loss: 0.3691 - acc: 0.8711 - val_loss: 1.6213 - val_acc: 0.5846\n",
            "Epoch 17/50\n",
            "50000/50000 [==============================] - 142s 3ms/step - loss: 0.3433 - acc: 0.8810 - val_loss: 0.8207 - val_acc: 0.7519\n",
            "Epoch 18/50\n",
            "50000/50000 [==============================] - 143s 3ms/step - loss: 0.3340 - acc: 0.8858 - val_loss: 0.9728 - val_acc: 0.6839\n",
            "Epoch 19/50\n",
            "50000/50000 [==============================] - 143s 3ms/step - loss: 0.3127 - acc: 0.8914 - val_loss: 0.7568 - val_acc: 0.7605\n",
            "Epoch 20/50\n",
            "50000/50000 [==============================] - 143s 3ms/step - loss: 0.2920 - acc: 0.8994 - val_loss: 2.0145 - val_acc: 0.5458\n",
            "Epoch 21/50\n",
            "50000/50000 [==============================] - 144s 3ms/step - loss: 0.2903 - acc: 0.8991 - val_loss: 0.8117 - val_acc: 0.7619\n",
            "Epoch 22/50\n",
            "50000/50000 [==============================] - 143s 3ms/step - loss: 0.2665 - acc: 0.9074 - val_loss: 0.8023 - val_acc: 0.7627\n",
            "Epoch 23/50\n",
            "50000/50000 [==============================] - 142s 3ms/step - loss: 0.2497 - acc: 0.9152 - val_loss: 1.1164 - val_acc: 0.7154\n",
            "Epoch 24/50\n",
            "50000/50000 [==============================] - 143s 3ms/step - loss: 0.2340 - acc: 0.9184 - val_loss: 0.8878 - val_acc: 0.7377\n",
            "Epoch 25/50\n",
            "50000/50000 [==============================] - 143s 3ms/step - loss: 0.2244 - acc: 0.9223 - val_loss: 1.0928 - val_acc: 0.6951\n",
            "Epoch 26/50\n",
            "50000/50000 [==============================] - 143s 3ms/step - loss: 0.2117 - acc: 0.9266 - val_loss: 1.0168 - val_acc: 0.7218\n",
            "Epoch 27/50\n",
            "50000/50000 [==============================] - 143s 3ms/step - loss: 0.1954 - acc: 0.9330 - val_loss: 1.1205 - val_acc: 0.7087\n",
            "Epoch 28/50\n",
            "50000/50000 [==============================] - 143s 3ms/step - loss: 0.1894 - acc: 0.9348 - val_loss: 1.1981 - val_acc: 0.7190\n",
            "Epoch 29/50\n",
            "50000/50000 [==============================] - 142s 3ms/step - loss: 0.1845 - acc: 0.9360 - val_loss: 1.1386 - val_acc: 0.7169\n",
            "Epoch 30/50\n",
            "50000/50000 [==============================] - 143s 3ms/step - loss: 0.1677 - acc: 0.9419 - val_loss: 1.4856 - val_acc: 0.6680\n",
            "Epoch 31/50\n",
            "50000/50000 [==============================] - 143s 3ms/step - loss: 0.1569 - acc: 0.9465 - val_loss: 1.0539 - val_acc: 0.7380\n",
            "Epoch 32/50\n",
            "50000/50000 [==============================] - 143s 3ms/step - loss: 0.1502 - acc: 0.9496 - val_loss: 0.8638 - val_acc: 0.7701\n",
            "Epoch 33/50\n",
            "50000/50000 [==============================] - 143s 3ms/step - loss: 0.1392 - acc: 0.9533 - val_loss: 1.0854 - val_acc: 0.7442\n",
            "Epoch 34/50\n",
            "50000/50000 [==============================] - 143s 3ms/step - loss: 0.1264 - acc: 0.9571 - val_loss: 1.0705 - val_acc: 0.7170\n",
            "Epoch 35/50\n",
            "50000/50000 [==============================] - 143s 3ms/step - loss: 0.1199 - acc: 0.9591 - val_loss: 1.2958 - val_acc: 0.7236\n",
            "Epoch 36/50\n",
            "50000/50000 [==============================] - 143s 3ms/step - loss: 0.1209 - acc: 0.9598 - val_loss: 1.0364 - val_acc: 0.7431\n",
            "Epoch 37/50\n",
            "50000/50000 [==============================] - 143s 3ms/step - loss: 0.1064 - acc: 0.9652 - val_loss: 1.3562 - val_acc: 0.7030\n",
            "Epoch 38/50\n",
            "50000/50000 [==============================] - 143s 3ms/step - loss: 0.1144 - acc: 0.9612 - val_loss: 1.0579 - val_acc: 0.7583\n",
            "Epoch 39/50\n",
            "50000/50000 [==============================] - 142s 3ms/step - loss: 0.1025 - acc: 0.9657 - val_loss: 1.2235 - val_acc: 0.7249\n",
            "Epoch 40/50\n",
            "50000/50000 [==============================] - 143s 3ms/step - loss: 0.0937 - acc: 0.9689 - val_loss: 1.1782 - val_acc: 0.7267\n",
            "Epoch 41/50\n",
            "50000/50000 [==============================] - 143s 3ms/step - loss: 0.0817 - acc: 0.9727 - val_loss: 0.7822 - val_acc: 0.8024\n",
            "Epoch 42/50\n",
            "50000/50000 [==============================] - 143s 3ms/step - loss: 0.0806 - acc: 0.9737 - val_loss: 0.8377 - val_acc: 0.7868\n",
            "Epoch 43/50\n",
            "50000/50000 [==============================] - 143s 3ms/step - loss: 0.0914 - acc: 0.9703 - val_loss: 1.1615 - val_acc: 0.7408\n",
            "Epoch 44/50\n",
            "50000/50000 [==============================] - 143s 3ms/step - loss: 0.0876 - acc: 0.9699 - val_loss: 1.2380 - val_acc: 0.7591\n",
            "Epoch 45/50\n",
            "50000/50000 [==============================] - 143s 3ms/step - loss: 0.0751 - acc: 0.9757 - val_loss: 1.7627 - val_acc: 0.6716\n",
            "Epoch 46/50\n",
            "50000/50000 [==============================] - 143s 3ms/step - loss: 0.0618 - acc: 0.9811 - val_loss: 1.0430 - val_acc: 0.7585\n",
            "Epoch 47/50\n",
            "50000/50000 [==============================] - 144s 3ms/step - loss: 0.0620 - acc: 0.9800 - val_loss: 0.9852 - val_acc: 0.7677\n",
            "Epoch 48/50\n",
            "50000/50000 [==============================] - 142s 3ms/step - loss: 0.0823 - acc: 0.9721 - val_loss: 1.4474 - val_acc: 0.7249\n",
            "Epoch 49/50\n",
            "50000/50000 [==============================] - 143s 3ms/step - loss: 0.0805 - acc: 0.9729 - val_loss: 1.1100 - val_acc: 0.7731\n",
            "Epoch 50/50\n",
            "50000/50000 [==============================] - 143s 3ms/step - loss: 0.0427 - acc: 0.9877 - val_loss: 0.9772 - val_acc: 0.7751\n"
          ],
          "name": "stdout"
        },
        {
          "output_type": "execute_result",
          "data": {
            "text/plain": [
              "<keras.callbacks.History at 0x7f14a5de7400>"
            ]
          },
          "metadata": {
            "tags": []
          },
          "execution_count": 21
        }
      ]
    },
    {
      "metadata": {
        "id": "N1-UsPIoRGv8",
        "colab_type": "text"
      },
      "cell_type": "markdown",
      "source": [
        "### Accuracy is 98.7 & Validation Accuracy is 77.5 on 50 Epochs"
      ]
    },
    {
      "metadata": {
        "id": "pTfZIGrf4Uyd",
        "colab_type": "code",
        "outputId": "8ae413b1-ee5b-4198-a786-d34998f0e6a4",
        "colab": {
          "base_uri": "https://localhost:8080/",
          "height": 85
        }
      },
      "cell_type": "code",
      "source": [
        "# Test the model\n",
        "score = model.evaluate(x_test, y_test, verbose=1)\n",
        "print('Test loss:', score[0])\n",
        "print('Test accuracy:', score[1])\n",
        "# Save the trained weights in to .h5 format\n",
        "model.save_weights(\"Yolo_Basic_model2.h5\")\n",
        "print(\"Saved the model to disk\")"
      ],
      "execution_count": 0,
      "outputs": [
        {
          "output_type": "stream",
          "text": [
            "10000/10000 [==============================] - 11s 1ms/step\n",
            "Test loss: 0.977196123123169\n",
            "Test accuracy: 0.7751\n",
            "Saved the model to disk\n"
          ],
          "name": "stdout"
        }
      ]
    },
    {
      "metadata": {
        "id": "Jiyb9TlVGsZs",
        "colab_type": "code",
        "colab": {}
      },
      "cell_type": "code",
      "source": [
        "model.save_weights(\"Yolo_Basic_model2.h5\")\n",
        "print(\"Saved the model to disk\")\n",
        "from google.colab import files\n",
        "\n",
        "files.download('Yolo_Basic_model.h5')"
      ],
      "execution_count": 0,
      "outputs": []
    }
  ]
}